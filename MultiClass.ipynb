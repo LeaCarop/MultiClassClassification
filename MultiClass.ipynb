{
  "nbformat": 4,
  "nbformat_minor": 0,
  "metadata": {
    "colab": {
      "name": "MultiClass.ipynb",
      "provenance": [],
      "authorship_tag": "ABX9TyOL9PHo9zIR2up4LcSDokn8",
      "include_colab_link": true
    },
    "kernelspec": {
      "name": "python3",
      "display_name": "Python 3"
    },
    "language_info": {
      "name": "python"
    }
  },
  "cells": [
    {
      "cell_type": "markdown",
      "metadata": {
        "id": "view-in-github",
        "colab_type": "text"
      },
      "source": [
        "<a href=\"https://colab.research.google.com/github/LeaCarop/MultiClassClassification/blob/main/MultiClass.ipynb\" target=\"_parent\"><img src=\"https://colab.research.google.com/assets/colab-badge.svg\" alt=\"Open In Colab\"/></a>"
      ]
    },
    {
      "cell_type": "markdown",
      "source": [
        "El dataset MNIST contiene un mapa de pixeles mostrando cómo las personas han escrito algunos números.\n",
        "\n",
        "**Librerías y dataset**"
      ],
      "metadata": {
        "id": "YV6uW_AU5E1l"
      }
    },
    {
      "cell_type": "code",
      "execution_count": null,
      "metadata": {
        "id": "TAeQ7bBGnoob"
      },
      "outputs": [],
      "source": [
        "import numpy as np\n",
        "import pandas as pd\n",
        "import tensorflow as tf\n",
        "from tensorflow.keras import layers\n",
        "from matplotlib import pyplot as plt\n",
        "\n",
        "# The following lines adjust the granularity of reporting. \n",
        "pd.options.display.max_rows = 10\n",
        "pd.options.display.float_format = \"{:.1f}\".format\n",
        "\n",
        "# The following line improves formatting when ouputting NumPy arrays.\n",
        "np.set_printoptions(linewidth = 200)"
      ]
    },
    {
      "cell_type": "code",
      "source": [
        "# DESCARGAR DATASET\n",
        "(x_train, y_train),(x_test, y_test) = tf.keras.datasets.mnist.load_data()"
      ],
      "metadata": {
        "id": "i_c5wVE764Tg"
      },
      "execution_count": null,
      "outputs": []
    },
    {
      "cell_type": "markdown",
      "source": [
        "**Visualizar datos**"
      ],
      "metadata": {
        "id": "mCq8nsU58nLl"
      }
    },
    {
      "cell_type": "code",
      "source": [
        "x_train[5430]  # visualizo un ejemplo al azar"
      ],
      "metadata": {
        "colab": {
          "base_uri": "https://localhost:8080/"
        },
        "id": "qNNjgg0x7JTJ",
        "outputId": "b58fb982-66c1-43f5-cc02-371d28e7f8e6"
      },
      "execution_count": null,
      "outputs": [
        {
          "output_type": "execute_result",
          "data": {
            "text/plain": [
              "array([[  0,   0,   0,   0,   0,   0,   0,   0,   0,   0,   0,   0,   0,   0,   0,   0,   0,   0,   0,   0,   0,   0,   0,   0,   0,   0,   0,   0],\n",
              "       [  0,   0,   0,   0,   0,   0,   0,   0,   0,   0,   0,   0,   0,   0,   0,   0,   0,   0,   0,   0,   0,   0,   0,   0,   0,   0,   0,   0],\n",
              "       [  0,   0,   0,   0,   0,   0,   0,   0,   0,   0,   0,   0,   0,   0,   0,   0,   0,   0,   0,   0,   0,   0,   0,   0,   0,   0,   0,   0],\n",
              "       [  0,   0,   0,   0,   0,   0,   0,   0,   0,   0,   0,   0,   0,   0,   0,   0,   0,   0,   0,   0,   0,   0,   0,   0,   0,   0,   0,   0],\n",
              "       [  0,   0,   0,   0,   0,   0,   0,   0,   0,   1,  22, 209, 151,   7,   7,   7,   2,   0,   0,   0,   0,   0,   0,   0,   0,   0,   0,   0],\n",
              "       [  0,   0,   0,   0,   0,   0,   0,   0,   1,  98, 253, 253, 253, 253, 253, 253, 128,   0,   0,   0,   0,   0,   0,   0,   0,   0,   0,   0],\n",
              "       [  0,   0,   0,   0,   0,   0,   0,   1,  97, 253, 253, 253, 253, 240, 146, 215, 223,  40,   0,   0,   0,   0,   0,   0,   0,   0,   0,   0],\n",
              "       [  0,   0,   0,   0,   0,   0,   0,  25, 253, 253, 253, 237, 207,  33,   0, 114, 253, 186,  13,   5,   0,   0,   0,   0,   0,   0,   0,   0],\n",
              "       [  0,   0,   0,   0,   0,   0,  20, 208, 253, 253, 158,  36,   0,   0,   0,  63, 253, 253, 205, 171, 155, 155,  30,   0,   0,   0,   0,   0],\n",
              "       [  0,   0,   0,   0,   0,   0, 148, 253, 241,  93,  36,   0,   0,   0,   0, 141, 253, 253, 223, 173, 137, 249, 215,  12,   0,   0,   0,   0],\n",
              "       [  0,   0,   0,   0,   0,   0, 254, 251, 133,   0,   0,   0,   0,   0,  59, 231, 253, 240,  41,   0,   0, 125, 249, 119,   2,   0,   0,   0],\n",
              "       [  0,   0,   0,   0,   0,   0, 255, 241,   0,   0,   0,   0,   0,  35, 230, 253, 253, 154,   0,   0,   0,   0, 144, 253,  36,   0,   0,   0],\n",
              "       [  0,   0,   0,   0,   0,   0, 254, 244,  52,   0,   0,   0,  59, 194, 253, 253, 205,  16,   0,   0,   0,   0, 106, 253, 219,   4,   0,   0],\n",
              "       [  0,   0,   0,   0,   0,   0, 224, 253, 248, 174,  78, 186, 231, 253, 253, 208,  79,   0,   0,   0,   0,   0,  28, 240, 253,   5,   0,   0],\n",
              "       [  0,   0,   0,   0,   0,   0,  96, 222, 253, 253, 253, 253, 253, 206, 185,  50,   0,   0,   0,   0,   0,   0,   0, 236, 253,  39,   0,   0],\n",
              "       [  0,   0,   0,   0,   0,   0,   0,  36, 221, 253, 253, 242,  97,  18,   0,   0,   0,   0,   0,   0,   0,   0,   0, 236, 253, 129,   0,   0],\n",
              "       [  0,   0,   0,   0,   0,   0,   0,   4, 178, 253, 228,  42,   0,   0,   0,   0,   0,   0,   0,   0,   0,   0,  34, 241, 253,  90,   0,   0],\n",
              "       [  0,   0,   0,   0,   0,   0,   0,  13, 253, 253, 119,   0,   0,   0,   0,   0,   0,   0,   0,   0,   0,   0, 106, 253, 213,   4,   0,   0],\n",
              "       [  0,   0,   0,   0,   0,   0,   0,  13, 253, 253,  99,   0,   0,   0,   0,   0,   0,   0,   0,   0,   0,  83, 221, 253,  90,   0,   0,   0],\n",
              "       [  0,   0,   0,   0,   0,   0,   0,  13, 253, 253,  99,   0,   0,   0,   0,   0,   0,   0,   0,   0,  86, 235, 253, 209,   7,   0,   0,   0],\n",
              "       [  0,   0,   0,   0,   0,   0,   0,  13, 253, 253, 211,   0,   0,   0,   0,   0,   0,   0,  86, 209, 250, 253, 209,  22,   0,   0,   0,   0],\n",
              "       [  0,   0,   0,   0,   0,   0,   0,   7, 204, 253, 251, 236, 154, 112, 112, 112, 145, 236, 250, 253, 253, 154,  22,   0,   0,   0,   0,   0],\n",
              "       [  0,   0,   0,   0,   0,   0,   0,   0,  16, 205, 253, 253, 253, 253, 253, 253, 253, 253, 216, 135,  29,   2,   0,   0,   0,   0,   0,   0],\n",
              "       [  0,   0,   0,   0,   0,   0,   0,   0,   0,   3,  82, 147, 192, 253, 226, 129,  96,   5,   4,   0,   0,   0,   0,   0,   0,   0,   0,   0],\n",
              "       [  0,   0,   0,   0,   0,   0,   0,   0,   0,   0,   0,   0,   0,   0,   0,   0,   0,   0,   0,   0,   0,   0,   0,   0,   0,   0,   0,   0],\n",
              "       [  0,   0,   0,   0,   0,   0,   0,   0,   0,   0,   0,   0,   0,   0,   0,   0,   0,   0,   0,   0,   0,   0,   0,   0,   0,   0,   0,   0],\n",
              "       [  0,   0,   0,   0,   0,   0,   0,   0,   0,   0,   0,   0,   0,   0,   0,   0,   0,   0,   0,   0,   0,   0,   0,   0,   0,   0,   0,   0],\n",
              "       [  0,   0,   0,   0,   0,   0,   0,   0,   0,   0,   0,   0,   0,   0,   0,   0,   0,   0,   0,   0,   0,   0,   0,   0,   0,   0,   0,   0]], dtype=uint8)"
            ]
          },
          "metadata": {},
          "execution_count": 12
        }
      ]
    },
    {
      "cell_type": "code",
      "source": [
        "plt.imshow(x_train[5430]) # uso colores para ver el array"
      ],
      "metadata": {
        "colab": {
          "base_uri": "https://localhost:8080/",
          "height": 282
        },
        "id": "l5YFGgAA7s80",
        "outputId": "28873a8d-6d68-49e4-c838-30233148845c"
      },
      "execution_count": null,
      "outputs": [
        {
          "output_type": "execute_result",
          "data": {
            "text/plain": [
              "<matplotlib.image.AxesImage at 0x7f9bca269750>"
            ]
          },
          "metadata": {},
          "execution_count": 13
        },
        {
          "output_type": "display_data",
          "data": {
            "text/plain": [
              "<Figure size 432x288 with 1 Axes>"
            ],
            "image/png": "[encoded data removed]"
          },
          "metadata": {
            "needs_background": "light"
          }
        }
      ]
    },
    {
      "cell_type": "code",
      "source": [
        "x_train[5430][10]  # fila 10 dentro del array "
      ],
      "metadata": {
        "colab": {
          "base_uri": "https://localhost:8080/"
        },
        "id": "Yh2WCKMp7-Pv",
        "outputId": "58859ed9-d9d3-4ecb-bec8-da9e9f664979"
      },
      "execution_count": null,
      "outputs": [
        {
          "output_type": "execute_result",
          "data": {
            "text/plain": [
              "array([  0,   0,   0,   0,   0,   0, 254, 251, 133,   0,   0,   0,   0,   0,  59, 231, 253, 240,  41,   0,   0, 125, 249, 119,   2,   0,   0,   0], dtype=uint8)"
            ]
          },
          "metadata": {},
          "execution_count": 14
        }
      ]
    },
    {
      "cell_type": "code",
      "source": [
        "x_train[5430][10][16] # dentro de la fila 10, puesto 16 (empezar por 0, 1, 2... 16)"
      ],
      "metadata": {
        "colab": {
          "base_uri": "https://localhost:8080/"
        },
        "id": "27-uKCyO8Qhm",
        "outputId": "fcb83c3b-67f2-4c00-d7ff-cf4447f1088b"
      },
      "execution_count": null,
      "outputs": [
        {
          "output_type": "execute_result",
          "data": {
            "text/plain": [
              "253"
            ]
          },
          "metadata": {},
          "execution_count": 15
        }
      ]
    },
    {
      "cell_type": "markdown",
      "source": [
        "**Normalizar valores**"
      ],
      "metadata": {
        "id": "RbRB-JqT8trM"
      }
    },
    {
      "cell_type": "code",
      "source": [
        "x_train_normalized = x_train / 255.0\n",
        "x_test_normalized = x_test / 255.0\n",
        "print(x_train_normalized[2900][10]) "
      ],
      "metadata": {
        "colab": {
          "base_uri": "https://localhost:8080/"
        },
        "id": "8dmqh9Mt8zfG",
        "outputId": "a5465dee-e2d2-4f06-ad35-8e12efb81a10"
      },
      "execution_count": null,
      "outputs": [
        {
          "output_type": "stream",
          "name": "stdout",
          "text": [
            "[0.         0.         0.         0.         0.         0.         0.         0.55294118 1.         0.66666667 0.11372549 0.         0.         0.         0.         0.         0.         0.\n",
            " 0.         0.         0.         0.         0.         0.         0.         0.         0.         0.        ]\n"
          ]
        }
      ]
    },
    {
      "cell_type": "markdown",
      "source": [
        "**Definir funciones del modelo**"
      ],
      "metadata": {
        "id": "BP9vsP5x_S-X"
      }
    },
    {
      "cell_type": "code",
      "source": [
        "def plot_curve(epochs, hist, list_of_metrics):\n",
        "\n",
        "  plt.figure()\n",
        "  plt.xlabel(\"Epoch\")\n",
        "  plt.ylabel(\"Value\")\n",
        "\n",
        "  for m in list_of_metrics:\n",
        "    x = hist[m]\n",
        "    plt.plot(epochs[1:], x[1:], label=m)\n",
        "\n",
        "  plt.legend()\n"
      ],
      "metadata": {
        "id": "ALrlSRC4_Oqc"
      },
      "execution_count": null,
      "outputs": []
    },
    {
      "cell_type": "code",
      "source": [
        "def crear_modelo(my_learning_rate):\n",
        "\n",
        "  model = tf.keras.models.Sequential()\n",
        "\n",
        "  model.add(tf.keras.layers.Flatten(input_shape=(28, 28)))  # las características se almacenan en una matriz bidimensional 28x28 \n",
        "\n",
        "  model.add(tf.keras.layers.Dense(units=32, activation='relu')) # primera capa\n",
        "  \n",
        "  model.add(tf.keras.layers.Dropout(rate=0.2)) # a la primera capa se le van a apagar el 20% de las neuronas para evitar el sobreajuste\n",
        "\n",
        "  model.add(tf.keras.layers.Dense(units=10, activation='softmax'))   # segunda capa con activacion softmax porque hay varias clases\n",
        "                           \n",
        "  model.compile(optimizer=tf.keras.optimizers.Adam(lr=my_learning_rate),\n",
        "                loss=\"sparse_categorical_crossentropy\",\n",
        "                metrics=['accuracy'])\n",
        "  \n",
        "  return model    \n",
        "\n",
        "\n",
        "def train(model, train_features, train_label, epochs,\n",
        "                batch_size=None, validation_split=0.1):\n",
        "  \n",
        "  history = model.fit(x=train_features, y=train_label, batch_size=batch_size,\n",
        "                      epochs=epochs, shuffle=True, \n",
        "                      validation_split=validation_split)\n",
        " \n",
        "  epochs = history.epoch\n",
        "  hist = pd.DataFrame(history.history)\n",
        "\n",
        "  return epochs, hist    "
      ],
      "metadata": {
        "id": "bcOMw2Sf_bKj"
      },
      "execution_count": null,
      "outputs": []
    },
    {
      "cell_type": "markdown",
      "source": [
        "**Hiperparámetros y entrenamiento**"
      ],
      "metadata": {
        "id": "O5_LDWiNCos7"
      }
    },
    {
      "cell_type": "code",
      "source": [
        "learning_rate = 0.003\n",
        "epochs = 50\n",
        "batch_size = 4000\n",
        "validation_split = 0.2\n",
        "\n",
        "my_model = crear_modelo(learning_rate)\n",
        "\n",
        "epochs, hist = train(my_model, x_train_normalized, y_train, \n",
        "                           epochs, batch_size, validation_split)\n",
        "\n",
        "list_of_metrics_to_plot = ['accuracy']\n",
        "plot_curve(epochs, hist, list_of_metrics_to_plot)\n",
        "\n",
        "print(\"\\n Evaluar el nuevo modelo con el conjunto de validación:\")\n",
        "my_model.evaluate(x=x_test_normalized, y=y_test, batch_size=batch_size)"
      ],
      "metadata": {
        "colab": {
          "base_uri": "https://localhost:8080/",
          "height": 1000
        },
        "id": "WhGKxH9sCthl",
        "outputId": "9458ee6b-431b-445d-d75d-579104ca5082"
      },
      "execution_count": null,
      "outputs": [
        {
          "output_type": "stream",
          "name": "stderr",
          "text": [
            "/usr/local/lib/python3.7/dist-packages/keras/optimizer_v2/adam.py:105: UserWarning: The `lr` argument is deprecated, use `learning_rate` instead.\n",
            "  super(Adam, self).__init__(name, **kwargs)\n"
          ]
        },
        {
          "output_type": "stream",
          "name": "stdout",
          "text": [
            "Epoch 1/50\n",
            "12/12 [==============================] - 1s 50ms/step - loss: 1.7338 - accuracy: 0.4547 - val_loss: 1.0020 - val_accuracy: 0.7903\n",
            "Epoch 2/50\n",
            "12/12 [==============================] - 0s 31ms/step - loss: 0.9040 - accuracy: 0.7352 - val_loss: 0.5215 - val_accuracy: 0.8711\n",
            "Epoch 3/50\n",
            "12/12 [==============================] - 0s 30ms/step - loss: 0.6197 - accuracy: 0.8154 - val_loss: 0.4009 - val_accuracy: 0.8952\n",
            "Epoch 4/50\n",
            "12/12 [==============================] - 0s 31ms/step - loss: 0.5102 - accuracy: 0.8502 - val_loss: 0.3446 - val_accuracy: 0.9073\n",
            "Epoch 5/50\n",
            "12/12 [==============================] - 0s 31ms/step - loss: 0.4545 - accuracy: 0.8653 - val_loss: 0.3116 - val_accuracy: 0.9162\n",
            "Epoch 6/50\n",
            "12/12 [==============================] - 0s 30ms/step - loss: 0.4150 - accuracy: 0.8779 - val_loss: 0.2878 - val_accuracy: 0.9212\n",
            "Epoch 7/50\n",
            "12/12 [==============================] - 0s 30ms/step - loss: 0.3888 - accuracy: 0.8868 - val_loss: 0.2726 - val_accuracy: 0.9250\n",
            "Epoch 8/50\n",
            "12/12 [==============================] - 0s 31ms/step - loss: 0.3680 - accuracy: 0.8922 - val_loss: 0.2584 - val_accuracy: 0.9287\n",
            "Epoch 9/50\n",
            "12/12 [==============================] - 0s 30ms/step - loss: 0.3510 - accuracy: 0.8976 - val_loss: 0.2474 - val_accuracy: 0.9317\n",
            "Epoch 10/50\n",
            "12/12 [==============================] - 0s 30ms/step - loss: 0.3364 - accuracy: 0.9021 - val_loss: 0.2381 - val_accuracy: 0.9321\n",
            "Epoch 11/50\n",
            "12/12 [==============================] - 0s 30ms/step - loss: 0.3182 - accuracy: 0.9065 - val_loss: 0.2285 - val_accuracy: 0.9342\n",
            "Epoch 12/50\n",
            "12/12 [==============================] - 0s 29ms/step - loss: 0.3117 - accuracy: 0.9092 - val_loss: 0.2206 - val_accuracy: 0.9386\n",
            "Epoch 13/50\n",
            "12/12 [==============================] - 0s 30ms/step - loss: 0.2998 - accuracy: 0.9109 - val_loss: 0.2149 - val_accuracy: 0.9398\n",
            "Epoch 14/50\n",
            "12/12 [==============================] - 0s 31ms/step - loss: 0.2913 - accuracy: 0.9136 - val_loss: 0.2090 - val_accuracy: 0.9406\n",
            "Epoch 15/50\n",
            "12/12 [==============================] - 0s 31ms/step - loss: 0.2864 - accuracy: 0.9150 - val_loss: 0.2041 - val_accuracy: 0.9432\n",
            "Epoch 16/50\n",
            "12/12 [==============================] - 0s 33ms/step - loss: 0.2790 - accuracy: 0.9183 - val_loss: 0.1983 - val_accuracy: 0.9444\n",
            "Epoch 17/50\n",
            "12/12 [==============================] - 0s 30ms/step - loss: 0.2712 - accuracy: 0.9206 - val_loss: 0.1955 - val_accuracy: 0.9457\n",
            "Epoch 18/50\n",
            "12/12 [==============================] - 0s 31ms/step - loss: 0.2660 - accuracy: 0.9209 - val_loss: 0.1914 - val_accuracy: 0.9470\n",
            "Epoch 19/50\n",
            "12/12 [==============================] - 0s 33ms/step - loss: 0.2603 - accuracy: 0.9237 - val_loss: 0.1885 - val_accuracy: 0.9477\n",
            "Epoch 20/50\n",
            "12/12 [==============================] - 0s 31ms/step - loss: 0.2552 - accuracy: 0.9243 - val_loss: 0.1853 - val_accuracy: 0.9483\n",
            "Epoch 21/50\n",
            "12/12 [==============================] - 0s 33ms/step - loss: 0.2512 - accuracy: 0.9269 - val_loss: 0.1825 - val_accuracy: 0.9492\n",
            "Epoch 22/50\n",
            "12/12 [==============================] - 0s 29ms/step - loss: 0.2477 - accuracy: 0.9266 - val_loss: 0.1800 - val_accuracy: 0.9509\n",
            "Epoch 23/50\n",
            "12/12 [==============================] - 0s 30ms/step - loss: 0.2395 - accuracy: 0.9300 - val_loss: 0.1775 - val_accuracy: 0.9509\n",
            "Epoch 24/50\n",
            "12/12 [==============================] - 0s 31ms/step - loss: 0.2404 - accuracy: 0.9283 - val_loss: 0.1770 - val_accuracy: 0.9513\n",
            "Epoch 25/50\n",
            "12/12 [==============================] - 0s 30ms/step - loss: 0.2355 - accuracy: 0.9289 - val_loss: 0.1733 - val_accuracy: 0.9521\n",
            "Epoch 26/50\n",
            "12/12 [==============================] - 0s 29ms/step - loss: 0.2306 - accuracy: 0.9317 - val_loss: 0.1716 - val_accuracy: 0.9522\n",
            "Epoch 27/50\n",
            "12/12 [==============================] - 0s 31ms/step - loss: 0.2272 - accuracy: 0.9328 - val_loss: 0.1700 - val_accuracy: 0.9523\n",
            "Epoch 28/50\n",
            "12/12 [==============================] - 0s 30ms/step - loss: 0.2263 - accuracy: 0.9314 - val_loss: 0.1689 - val_accuracy: 0.9537\n",
            "Epoch 29/50\n",
            "12/12 [==============================] - 0s 30ms/step - loss: 0.2230 - accuracy: 0.9327 - val_loss: 0.1670 - val_accuracy: 0.9542\n",
            "Epoch 30/50\n",
            "12/12 [==============================] - 0s 31ms/step - loss: 0.2201 - accuracy: 0.9335 - val_loss: 0.1645 - val_accuracy: 0.9538\n",
            "Epoch 31/50\n",
            "12/12 [==============================] - 0s 32ms/step - loss: 0.2153 - accuracy: 0.9350 - val_loss: 0.1624 - val_accuracy: 0.9557\n",
            "Epoch 32/50\n",
            "12/12 [==============================] - 0s 31ms/step - loss: 0.2159 - accuracy: 0.9350 - val_loss: 0.1624 - val_accuracy: 0.9548\n",
            "Epoch 33/50\n",
            "12/12 [==============================] - 0s 32ms/step - loss: 0.2114 - accuracy: 0.9364 - val_loss: 0.1613 - val_accuracy: 0.9553\n",
            "Epoch 34/50\n",
            "12/12 [==============================] - 0s 31ms/step - loss: 0.2087 - accuracy: 0.9385 - val_loss: 0.1599 - val_accuracy: 0.9566\n",
            "Epoch 35/50\n",
            "12/12 [==============================] - 0s 31ms/step - loss: 0.2060 - accuracy: 0.9373 - val_loss: 0.1588 - val_accuracy: 0.9555\n",
            "Epoch 36/50\n",
            "12/12 [==============================] - 0s 30ms/step - loss: 0.2068 - accuracy: 0.9375 - val_loss: 0.1568 - val_accuracy: 0.9578\n",
            "Epoch 37/50\n",
            "12/12 [==============================] - 0s 30ms/step - loss: 0.2013 - accuracy: 0.9378 - val_loss: 0.1560 - val_accuracy: 0.9572\n",
            "Epoch 38/50\n",
            "12/12 [==============================] - 0s 33ms/step - loss: 0.1997 - accuracy: 0.9399 - val_loss: 0.1548 - val_accuracy: 0.9572\n",
            "Epoch 39/50\n",
            "12/12 [==============================] - 0s 30ms/step - loss: 0.2005 - accuracy: 0.9385 - val_loss: 0.1549 - val_accuracy: 0.9569\n",
            "Epoch 40/50\n",
            "12/12 [==============================] - 0s 30ms/step - loss: 0.1947 - accuracy: 0.9413 - val_loss: 0.1532 - val_accuracy: 0.9582\n",
            "Epoch 41/50\n",
            "12/12 [==============================] - 0s 30ms/step - loss: 0.1959 - accuracy: 0.9409 - val_loss: 0.1521 - val_accuracy: 0.9580\n",
            "Epoch 42/50\n",
            "12/12 [==============================] - 0s 31ms/step - loss: 0.1934 - accuracy: 0.9413 - val_loss: 0.1525 - val_accuracy: 0.9582\n",
            "Epoch 43/50\n",
            "12/12 [==============================] - 0s 29ms/step - loss: 0.1904 - accuracy: 0.9406 - val_loss: 0.1503 - val_accuracy: 0.9578\n",
            "Epoch 44/50\n",
            "12/12 [==============================] - 0s 33ms/step - loss: 0.1896 - accuracy: 0.9421 - val_loss: 0.1498 - val_accuracy: 0.9585\n",
            "Epoch 45/50\n",
            "12/12 [==============================] - 0s 32ms/step - loss: 0.1877 - accuracy: 0.9429 - val_loss: 0.1489 - val_accuracy: 0.9580\n",
            "Epoch 46/50\n",
            "12/12 [==============================] - 0s 29ms/step - loss: 0.1894 - accuracy: 0.9418 - val_loss: 0.1487 - val_accuracy: 0.9580\n",
            "Epoch 47/50\n",
            "12/12 [==============================] - 0s 30ms/step - loss: 0.1829 - accuracy: 0.9439 - val_loss: 0.1474 - val_accuracy: 0.9578\n",
            "Epoch 48/50\n",
            "12/12 [==============================] - 0s 29ms/step - loss: 0.1843 - accuracy: 0.9430 - val_loss: 0.1483 - val_accuracy: 0.9582\n",
            "Epoch 49/50\n",
            "12/12 [==============================] - 0s 30ms/step - loss: 0.1829 - accuracy: 0.9451 - val_loss: 0.1460 - val_accuracy: 0.9582\n",
            "Epoch 50/50\n",
            "12/12 [==============================] - 0s 29ms/step - loss: 0.1767 - accuracy: 0.9468 - val_loss: 0.1454 - val_accuracy: 0.9585\n",
            "\n",
            " Evaluae el nuevo modelo con el conjunto de validación:\n",
            "3/3 [==============================] - 0s 10ms/step - loss: 0.1482 - accuracy: 0.9552\n"
          ]
        },
        {
          "output_type": "execute_result",
          "data": {
            "text/plain": [
              "[0.14816240966320038, 0.9552000164985657]"
            ]
          },
          "metadata": {},
          "execution_count": 19
        },
        {
          "output_type": "display_data",
          "data": {
            "text/plain": [
              "<Figure size 432x288 with 1 Axes>"
            ],
            "image/png": "[encoded data removed]"
          },
          "metadata": {
            "needs_background": "light"
          }
        }
      ]
    },
    {
      "cell_type": "markdown",
      "source": [
        "**Optimizar el modelo**"
      ],
      "metadata": {
        "id": "_WI8e1qWElw8"
      }
    },
    {
      "cell_type": "code",
      "source": [
        "def crear_modelo(my_learning_rate):\n",
        "\n",
        "  model = tf.keras.models.Sequential()\n",
        "\n",
        "  model.add(tf.keras.layers.Flatten(input_shape=(28, 28)))  # las características se almacenan en una matriz bidimensional 28x28 \n",
        "\n",
        "  model.add(tf.keras.layers.Dense(units=256, activation='relu')) # primera capa\n",
        "  \n",
        "  model.add(tf.keras.layers.Dropout(rate=0.2)) # a la primera capa se le van a apagar el 20% de las neuronas para evitar el sobreajuste\n",
        "\n",
        "  model.add(tf.keras.layers.Dense(units=32, activation='softmax'))   # segunda capa con activacion softmax porque hay varias clases\n",
        "                           \n",
        "  model.compile(optimizer=tf.keras.optimizers.Adam(lr=my_learning_rate),\n",
        "                loss=\"sparse_categorical_crossentropy\",\n",
        "                metrics=['accuracy'])\n",
        "  \n",
        "  return model    \n",
        "\n",
        "\n",
        "def train(model, train_features, train_label, epochs,\n",
        "                batch_size=None, validation_split=0.1):\n",
        "  \n",
        "  history = model.fit(x=train_features, y=train_label, batch_size=batch_size,\n",
        "                      epochs=epochs, shuffle=True, \n",
        "                      validation_split=validation_split)\n",
        " \n",
        "  epochs = history.epoch\n",
        "  hist = pd.DataFrame(history.history)\n",
        "\n",
        "  return epochs, hist    "
      ],
      "metadata": {
        "id": "AiFL0QM9Ejp1"
      },
      "execution_count": null,
      "outputs": []
    },
    {
      "cell_type": "code",
      "source": [
        "learning_rate = 0.003\n",
        "epochs = 50\n",
        "batch_size = 4000\n",
        "validation_split = 0.2\n",
        "\n",
        "my_model = crear_modelo(learning_rate)\n",
        "\n",
        "epochs, hist = train(my_model, x_train_normalized, y_train, \n",
        "                           epochs, batch_size, validation_split)\n",
        "\n",
        "list_of_metrics_to_plot = ['accuracy']\n",
        "plot_curve(epochs, hist, list_of_metrics_to_plot)\n",
        "\n",
        "print(\"\\n Evaluar el nuevo modelo con el conjunto de validación:\")\n",
        "my_model.evaluate(x=x_test_normalized, y=y_test, batch_size=batch_size)"
      ],
      "metadata": {
        "colab": {
          "base_uri": "https://localhost:8080/",
          "height": 1000
        },
        "id": "wHjmIrNNFEHk",
        "outputId": "a144c146-53e6-40be-eb45-acdde35fce46"
      },
      "execution_count": null,
      "outputs": [
        {
          "output_type": "stream",
          "name": "stdout",
          "text": [
            "Epoch 1/50\n"
          ]
        },
        {
          "output_type": "stream",
          "name": "stderr",
          "text": [
            "/usr/local/lib/python3.7/dist-packages/keras/optimizer_v2/adam.py:105: UserWarning: The `lr` argument is deprecated, use `learning_rate` instead.\n",
            "  super(Adam, self).__init__(name, **kwargs)\n"
          ]
        },
        {
          "output_type": "stream",
          "name": "stdout",
          "text": [
            "12/12 [==============================] - 2s 114ms/step - loss: 1.2998 - accuracy: 0.6407 - val_loss: 0.4137 - val_accuracy: 0.8795\n",
            "Epoch 2/50\n",
            "12/12 [==============================] - 1s 100ms/step - loss: 0.4476 - accuracy: 0.8631 - val_loss: 0.3149 - val_accuracy: 0.9103\n",
            "Epoch 3/50\n",
            "12/12 [==============================] - 1s 99ms/step - loss: 0.3504 - accuracy: 0.8970 - val_loss: 0.2646 - val_accuracy: 0.9255\n",
            "Epoch 4/50\n",
            "12/12 [==============================] - 1s 101ms/step - loss: 0.2929 - accuracy: 0.9133 - val_loss: 0.2365 - val_accuracy: 0.9341\n",
            "Epoch 5/50\n",
            "12/12 [==============================] - 1s 100ms/step - loss: 0.2577 - accuracy: 0.9257 - val_loss: 0.2116 - val_accuracy: 0.9411\n",
            "Epoch 6/50\n",
            "12/12 [==============================] - 1s 102ms/step - loss: 0.2283 - accuracy: 0.9346 - val_loss: 0.1932 - val_accuracy: 0.9457\n",
            "Epoch 7/50\n",
            "12/12 [==============================] - 1s 99ms/step - loss: 0.2050 - accuracy: 0.9414 - val_loss: 0.1779 - val_accuracy: 0.9506\n",
            "Epoch 8/50\n",
            "12/12 [==============================] - 1s 99ms/step - loss: 0.1857 - accuracy: 0.9468 - val_loss: 0.1656 - val_accuracy: 0.9532\n",
            "Epoch 9/50\n",
            "12/12 [==============================] - 1s 98ms/step - loss: 0.1712 - accuracy: 0.9508 - val_loss: 0.1545 - val_accuracy: 0.9566\n",
            "Epoch 10/50\n",
            "12/12 [==============================] - 1s 101ms/step - loss: 0.1581 - accuracy: 0.9546 - val_loss: 0.1459 - val_accuracy: 0.9588\n",
            "Epoch 11/50\n",
            "12/12 [==============================] - 1s 99ms/step - loss: 0.1470 - accuracy: 0.9575 - val_loss: 0.1370 - val_accuracy: 0.9596\n",
            "Epoch 12/50\n",
            "12/12 [==============================] - 1s 103ms/step - loss: 0.1354 - accuracy: 0.9611 - val_loss: 0.1300 - val_accuracy: 0.9624\n",
            "Epoch 13/50\n",
            "12/12 [==============================] - 1s 100ms/step - loss: 0.1276 - accuracy: 0.9639 - val_loss: 0.1262 - val_accuracy: 0.9626\n",
            "Epoch 14/50\n",
            "12/12 [==============================] - 1s 101ms/step - loss: 0.1190 - accuracy: 0.9665 - val_loss: 0.1198 - val_accuracy: 0.9642\n",
            "Epoch 15/50\n",
            "12/12 [==============================] - 1s 109ms/step - loss: 0.1121 - accuracy: 0.9681 - val_loss: 0.1153 - val_accuracy: 0.9660\n",
            "Epoch 16/50\n",
            "12/12 [==============================] - 1s 100ms/step - loss: 0.1051 - accuracy: 0.9703 - val_loss: 0.1116 - val_accuracy: 0.9661\n",
            "Epoch 17/50\n",
            "12/12 [==============================] - 1s 100ms/step - loss: 0.0985 - accuracy: 0.9715 - val_loss: 0.1074 - val_accuracy: 0.9682\n",
            "Epoch 18/50\n",
            "12/12 [==============================] - 1s 101ms/step - loss: 0.0938 - accuracy: 0.9729 - val_loss: 0.1044 - val_accuracy: 0.9683\n",
            "Epoch 19/50\n",
            "12/12 [==============================] - 1s 101ms/step - loss: 0.0889 - accuracy: 0.9745 - val_loss: 0.1025 - val_accuracy: 0.9688\n",
            "Epoch 20/50\n",
            "12/12 [==============================] - 1s 102ms/step - loss: 0.0849 - accuracy: 0.9750 - val_loss: 0.1004 - val_accuracy: 0.9691\n",
            "Epoch 21/50\n",
            "12/12 [==============================] - 1s 101ms/step - loss: 0.0798 - accuracy: 0.9769 - val_loss: 0.0979 - val_accuracy: 0.9697\n",
            "Epoch 22/50\n",
            "12/12 [==============================] - 1s 99ms/step - loss: 0.0755 - accuracy: 0.9779 - val_loss: 0.0957 - val_accuracy: 0.9713\n",
            "Epoch 23/50\n",
            "12/12 [==============================] - 1s 102ms/step - loss: 0.0727 - accuracy: 0.9790 - val_loss: 0.0931 - val_accuracy: 0.9726\n",
            "Epoch 24/50\n",
            "12/12 [==============================] - 1s 99ms/step - loss: 0.0679 - accuracy: 0.9811 - val_loss: 0.0925 - val_accuracy: 0.9722\n",
            "Epoch 25/50\n",
            "12/12 [==============================] - 1s 102ms/step - loss: 0.0678 - accuracy: 0.9805 - val_loss: 0.0906 - val_accuracy: 0.9726\n",
            "Epoch 26/50\n",
            "12/12 [==============================] - 1s 100ms/step - loss: 0.0630 - accuracy: 0.9821 - val_loss: 0.0899 - val_accuracy: 0.9725\n",
            "Epoch 27/50\n",
            "12/12 [==============================] - 1s 99ms/step - loss: 0.0594 - accuracy: 0.9838 - val_loss: 0.0885 - val_accuracy: 0.9722\n",
            "Epoch 28/50\n",
            "12/12 [==============================] - 1s 100ms/step - loss: 0.0577 - accuracy: 0.9832 - val_loss: 0.0860 - val_accuracy: 0.9735\n",
            "Epoch 29/50\n",
            "12/12 [==============================] - 1s 99ms/step - loss: 0.0543 - accuracy: 0.9846 - val_loss: 0.0852 - val_accuracy: 0.9743\n",
            "Epoch 30/50\n",
            "12/12 [==============================] - 1s 99ms/step - loss: 0.0525 - accuracy: 0.9844 - val_loss: 0.0849 - val_accuracy: 0.9737\n",
            "Epoch 31/50\n",
            "12/12 [==============================] - 1s 101ms/step - loss: 0.0506 - accuracy: 0.9856 - val_loss: 0.0836 - val_accuracy: 0.9744\n",
            "Epoch 32/50\n",
            "12/12 [==============================] - 1s 103ms/step - loss: 0.0472 - accuracy: 0.9865 - val_loss: 0.0819 - val_accuracy: 0.9756\n",
            "Epoch 33/50\n",
            "12/12 [==============================] - 1s 100ms/step - loss: 0.0466 - accuracy: 0.9868 - val_loss: 0.0809 - val_accuracy: 0.9761\n",
            "Epoch 34/50\n",
            "12/12 [==============================] - 1s 101ms/step - loss: 0.0443 - accuracy: 0.9880 - val_loss: 0.0810 - val_accuracy: 0.9759\n",
            "Epoch 35/50\n",
            "12/12 [==============================] - 1s 100ms/step - loss: 0.0425 - accuracy: 0.9881 - val_loss: 0.0797 - val_accuracy: 0.9760\n",
            "Epoch 36/50\n",
            "12/12 [==============================] - 1s 101ms/step - loss: 0.0416 - accuracy: 0.9883 - val_loss: 0.0793 - val_accuracy: 0.9762\n",
            "Epoch 37/50\n",
            "12/12 [==============================] - 1s 100ms/step - loss: 0.0395 - accuracy: 0.9887 - val_loss: 0.0795 - val_accuracy: 0.9766\n",
            "Epoch 38/50\n",
            "12/12 [==============================] - 1s 102ms/step - loss: 0.0382 - accuracy: 0.9896 - val_loss: 0.0792 - val_accuracy: 0.9765\n",
            "Epoch 39/50\n",
            "12/12 [==============================] - 1s 100ms/step - loss: 0.0367 - accuracy: 0.9898 - val_loss: 0.0789 - val_accuracy: 0.9762\n",
            "Epoch 40/50\n",
            "12/12 [==============================] - 1s 104ms/step - loss: 0.0360 - accuracy: 0.9899 - val_loss: 0.0777 - val_accuracy: 0.9762\n",
            "Epoch 41/50\n",
            "12/12 [==============================] - 1s 101ms/step - loss: 0.0341 - accuracy: 0.9905 - val_loss: 0.0796 - val_accuracy: 0.9752\n",
            "Epoch 42/50\n",
            "12/12 [==============================] - 1s 101ms/step - loss: 0.0329 - accuracy: 0.9911 - val_loss: 0.0774 - val_accuracy: 0.9766\n",
            "Epoch 43/50\n",
            "12/12 [==============================] - 1s 101ms/step - loss: 0.0307 - accuracy: 0.9915 - val_loss: 0.0766 - val_accuracy: 0.9770\n",
            "Epoch 44/50\n",
            "12/12 [==============================] - 1s 100ms/step - loss: 0.0302 - accuracy: 0.9917 - val_loss: 0.0769 - val_accuracy: 0.9767\n",
            "Epoch 45/50\n",
            "12/12 [==============================] - 1s 101ms/step - loss: 0.0298 - accuracy: 0.9919 - val_loss: 0.0775 - val_accuracy: 0.9767\n",
            "Epoch 46/50\n",
            "12/12 [==============================] - 1s 100ms/step - loss: 0.0290 - accuracy: 0.9919 - val_loss: 0.0766 - val_accuracy: 0.9769\n",
            "Epoch 47/50\n",
            "12/12 [==============================] - 1s 100ms/step - loss: 0.0277 - accuracy: 0.9929 - val_loss: 0.0758 - val_accuracy: 0.9780\n",
            "Epoch 48/50\n",
            "12/12 [==============================] - 1s 100ms/step - loss: 0.0272 - accuracy: 0.9928 - val_loss: 0.0780 - val_accuracy: 0.9777\n",
            "Epoch 49/50\n",
            "12/12 [==============================] - 1s 103ms/step - loss: 0.0262 - accuracy: 0.9931 - val_loss: 0.0764 - val_accuracy: 0.9772\n",
            "Epoch 50/50\n",
            "12/12 [==============================] - 1s 100ms/step - loss: 0.0251 - accuracy: 0.9928 - val_loss: 0.0779 - val_accuracy: 0.9771\n",
            "\n",
            " Evaluar el nuevo modelo con el conjunto de validación:\n",
            "3/3 [==============================] - 0s 29ms/step - loss: 0.0703 - accuracy: 0.9788\n"
          ]
        },
        {
          "output_type": "execute_result",
          "data": {
            "text/plain": [
              "[0.07029608637094498, 0.9787999987602234]"
            ]
          },
          "metadata": {},
          "execution_count": 35
        },
        {
          "output_type": "display_data",
          "data": {
            "text/plain": [
              "<Figure size 432x288 with 1 Axes>"
            ],
            "image/png": "[encoded data removed]"
          },
          "metadata": {
            "needs_background": "light"
          }
        }
      ]
    },
    {
      "cell_type": "code",
      "source": [
        "def crear_modelo(my_learning_rate):\n",
        "\n",
        "  model = tf.keras.models.Sequential()\n",
        "\n",
        "  model.add(tf.keras.layers.Flatten(input_shape=(28, 28)))  # las características se almacenan en una matriz bidimensional 28x28 \n",
        "\n",
        "  model.add(tf.keras.layers.Dense(units=256, activation='relu')) # primera capa\n",
        "  \n",
        "  model.add(tf.keras.layers.Dropout(rate=0.5)) # a la primera capa se le van a apagar el 20% de las neuronas para evitar el sobreajuste\n",
        "\n",
        "  model.add(tf.keras.layers.Dense(units=32, activation='softmax'))   # segunda capa con activacion softmax porque hay varias clases\n",
        "                           \n",
        "  model.compile(optimizer=tf.keras.optimizers.Adam(lr=my_learning_rate),\n",
        "                loss=\"sparse_categorical_crossentropy\",\n",
        "                metrics=['accuracy'])\n",
        "  \n",
        "  return model    \n",
        "\n",
        "\n",
        "def train(model, train_features, train_label, epochs,\n",
        "                batch_size=None, validation_split=0.1):\n",
        "  \n",
        "  history = model.fit(x=train_features, y=train_label, batch_size=batch_size,\n",
        "                      epochs=epochs, shuffle=True, \n",
        "                      validation_split=validation_split)\n",
        " \n",
        "  epochs = history.epoch\n",
        "  hist = pd.DataFrame(history.history)\n",
        "\n",
        "  return epochs, hist   "
      ],
      "metadata": {
        "id": "vpSp0FbgIdhc"
      },
      "execution_count": null,
      "outputs": []
    },
    {
      "cell_type": "code",
      "source": [
        "learning_rate = 0.003\n",
        "epochs = 50\n",
        "batch_size = 4000\n",
        "validation_split = 0.2\n",
        "\n",
        "my_model = crear_modelo(learning_rate)\n",
        "\n",
        "epochs, hist = train(my_model, x_train_normalized, y_train, \n",
        "                           epochs, batch_size, validation_split)\n",
        "\n",
        "list_of_metrics_to_plot = ['accuracy']\n",
        "plot_curve(epochs, hist, list_of_metrics_to_plot)\n",
        "\n",
        "print(\"\\n Evaluar el nuevo modelo con el conjunto de validación:\")\n",
        "my_model.evaluate(x=x_test_normalized, y=y_test, batch_size=batch_size)"
      ],
      "metadata": {
        "colab": {
          "base_uri": "https://localhost:8080/",
          "height": 1000
        },
        "id": "gz55Yt-IIk80",
        "outputId": "bd44cf72-90c0-4037-c48b-6727166f7ecf"
      },
      "execution_count": null,
      "outputs": [
        {
          "output_type": "stream",
          "name": "stdout",
          "text": [
            "Epoch 1/50\n"
          ]
        },
        {
          "output_type": "stream",
          "name": "stderr",
          "text": [
            "/usr/local/lib/python3.7/dist-packages/keras/optimizer_v2/adam.py:105: UserWarning: The `lr` argument is deprecated, use `learning_rate` instead.\n",
            "  super(Adam, self).__init__(name, **kwargs)\n"
          ]
        },
        {
          "output_type": "stream",
          "name": "stdout",
          "text": [
            "12/12 [==============================] - 2s 116ms/step - loss: 1.5460 - accuracy: 0.5535 - val_loss: 0.4528 - val_accuracy: 0.8699\n",
            "Epoch 2/50\n",
            "12/12 [==============================] - 1s 102ms/step - loss: 0.5431 - accuracy: 0.8310 - val_loss: 0.3261 - val_accuracy: 0.9089\n",
            "Epoch 3/50\n",
            "12/12 [==============================] - 1s 100ms/step - loss: 0.3925 - accuracy: 0.8855 - val_loss: 0.2733 - val_accuracy: 0.9233\n",
            "Epoch 4/50\n",
            "12/12 [==============================] - 1s 103ms/step - loss: 0.3244 - accuracy: 0.9061 - val_loss: 0.2323 - val_accuracy: 0.9348\n",
            "Epoch 5/50\n",
            "12/12 [==============================] - 1s 100ms/step - loss: 0.2875 - accuracy: 0.9163 - val_loss: 0.2069 - val_accuracy: 0.9422\n",
            "Epoch 6/50\n",
            "12/12 [==============================] - 1s 100ms/step - loss: 0.2558 - accuracy: 0.9254 - val_loss: 0.1892 - val_accuracy: 0.9480\n",
            "Epoch 7/50\n",
            "12/12 [==============================] - 1s 99ms/step - loss: 0.2357 - accuracy: 0.9321 - val_loss: 0.1733 - val_accuracy: 0.9522\n",
            "Epoch 8/50\n",
            "12/12 [==============================] - 1s 104ms/step - loss: 0.2190 - accuracy: 0.9370 - val_loss: 0.1628 - val_accuracy: 0.9541\n",
            "Epoch 9/50\n",
            "12/12 [==============================] - 1s 100ms/step - loss: 0.2059 - accuracy: 0.9403 - val_loss: 0.1539 - val_accuracy: 0.9572\n",
            "Epoch 10/50\n",
            "12/12 [==============================] - 1s 100ms/step - loss: 0.1911 - accuracy: 0.9447 - val_loss: 0.1451 - val_accuracy: 0.9596\n",
            "Epoch 11/50\n",
            "12/12 [==============================] - 1s 100ms/step - loss: 0.1792 - accuracy: 0.9493 - val_loss: 0.1394 - val_accuracy: 0.9609\n",
            "Epoch 12/50\n",
            "12/12 [==============================] - 1s 98ms/step - loss: 0.1726 - accuracy: 0.9507 - val_loss: 0.1325 - val_accuracy: 0.9623\n",
            "Epoch 13/50\n",
            "12/12 [==============================] - 1s 102ms/step - loss: 0.1613 - accuracy: 0.9529 - val_loss: 0.1280 - val_accuracy: 0.9633\n",
            "Epoch 14/50\n",
            "12/12 [==============================] - 1s 102ms/step - loss: 0.1549 - accuracy: 0.9563 - val_loss: 0.1237 - val_accuracy: 0.9639\n",
            "Epoch 15/50\n",
            "12/12 [==============================] - 1s 100ms/step - loss: 0.1467 - accuracy: 0.9577 - val_loss: 0.1192 - val_accuracy: 0.9652\n",
            "Epoch 16/50\n",
            "12/12 [==============================] - 1s 100ms/step - loss: 0.1414 - accuracy: 0.9590 - val_loss: 0.1161 - val_accuracy: 0.9664\n",
            "Epoch 17/50\n",
            "12/12 [==============================] - 1s 100ms/step - loss: 0.1370 - accuracy: 0.9604 - val_loss: 0.1126 - val_accuracy: 0.9668\n",
            "Epoch 18/50\n",
            "12/12 [==============================] - 1s 100ms/step - loss: 0.1323 - accuracy: 0.9615 - val_loss: 0.1100 - val_accuracy: 0.9679\n",
            "Epoch 19/50\n",
            "12/12 [==============================] - 1s 100ms/step - loss: 0.1287 - accuracy: 0.9625 - val_loss: 0.1061 - val_accuracy: 0.9682\n",
            "Epoch 20/50\n",
            "12/12 [==============================] - 1s 101ms/step - loss: 0.1223 - accuracy: 0.9643 - val_loss: 0.1045 - val_accuracy: 0.9688\n",
            "Epoch 21/50\n",
            "12/12 [==============================] - 1s 102ms/step - loss: 0.1196 - accuracy: 0.9649 - val_loss: 0.1016 - val_accuracy: 0.9702\n",
            "Epoch 22/50\n",
            "12/12 [==============================] - 1s 99ms/step - loss: 0.1118 - accuracy: 0.9673 - val_loss: 0.0987 - val_accuracy: 0.9709\n",
            "Epoch 23/50\n",
            "12/12 [==============================] - 1s 99ms/step - loss: 0.1086 - accuracy: 0.9679 - val_loss: 0.0977 - val_accuracy: 0.9709\n",
            "Epoch 24/50\n",
            "12/12 [==============================] - 1s 100ms/step - loss: 0.1078 - accuracy: 0.9694 - val_loss: 0.0965 - val_accuracy: 0.9714\n",
            "Epoch 25/50\n",
            "12/12 [==============================] - 1s 100ms/step - loss: 0.1039 - accuracy: 0.9690 - val_loss: 0.0944 - val_accuracy: 0.9719\n",
            "Epoch 26/50\n",
            "12/12 [==============================] - 1s 99ms/step - loss: 0.0983 - accuracy: 0.9709 - val_loss: 0.0930 - val_accuracy: 0.9720\n",
            "Epoch 27/50\n",
            "12/12 [==============================] - 1s 100ms/step - loss: 0.0968 - accuracy: 0.9714 - val_loss: 0.0931 - val_accuracy: 0.9733\n",
            "Epoch 28/50\n",
            "12/12 [==============================] - 1s 100ms/step - loss: 0.0938 - accuracy: 0.9728 - val_loss: 0.0899 - val_accuracy: 0.9728\n",
            "Epoch 29/50\n",
            "12/12 [==============================] - 1s 102ms/step - loss: 0.0921 - accuracy: 0.9726 - val_loss: 0.0889 - val_accuracy: 0.9737\n",
            "Epoch 30/50\n",
            "12/12 [==============================] - 1s 103ms/step - loss: 0.0882 - accuracy: 0.9743 - val_loss: 0.0879 - val_accuracy: 0.9745\n",
            "Epoch 31/50\n",
            "12/12 [==============================] - 1s 99ms/step - loss: 0.0855 - accuracy: 0.9742 - val_loss: 0.0873 - val_accuracy: 0.9739\n",
            "Epoch 32/50\n",
            "12/12 [==============================] - 1s 100ms/step - loss: 0.0836 - accuracy: 0.9753 - val_loss: 0.0870 - val_accuracy: 0.9747\n",
            "Epoch 33/50\n",
            "12/12 [==============================] - 1s 101ms/step - loss: 0.0815 - accuracy: 0.9756 - val_loss: 0.0843 - val_accuracy: 0.9750\n",
            "Epoch 34/50\n",
            "12/12 [==============================] - 1s 100ms/step - loss: 0.0811 - accuracy: 0.9760 - val_loss: 0.0855 - val_accuracy: 0.9752\n",
            "Epoch 35/50\n",
            "12/12 [==============================] - 1s 99ms/step - loss: 0.0773 - accuracy: 0.9771 - val_loss: 0.0836 - val_accuracy: 0.9759\n",
            "Epoch 36/50\n",
            "12/12 [==============================] - 1s 100ms/step - loss: 0.0765 - accuracy: 0.9771 - val_loss: 0.0837 - val_accuracy: 0.9753\n",
            "Epoch 37/50\n",
            "12/12 [==============================] - 1s 100ms/step - loss: 0.0741 - accuracy: 0.9779 - val_loss: 0.0821 - val_accuracy: 0.9755\n",
            "Epoch 38/50\n",
            "12/12 [==============================] - 1s 102ms/step - loss: 0.0746 - accuracy: 0.9781 - val_loss: 0.0820 - val_accuracy: 0.9756\n",
            "Epoch 39/50\n",
            "12/12 [==============================] - 1s 102ms/step - loss: 0.0694 - accuracy: 0.9799 - val_loss: 0.0813 - val_accuracy: 0.9755\n",
            "Epoch 40/50\n",
            "12/12 [==============================] - 1s 99ms/step - loss: 0.0696 - accuracy: 0.9790 - val_loss: 0.0806 - val_accuracy: 0.9758\n",
            "Epoch 41/50\n",
            "12/12 [==============================] - 1s 99ms/step - loss: 0.0695 - accuracy: 0.9790 - val_loss: 0.0816 - val_accuracy: 0.9763\n",
            "Epoch 42/50\n",
            "12/12 [==============================] - 1s 101ms/step - loss: 0.0683 - accuracy: 0.9787 - val_loss: 0.0787 - val_accuracy: 0.9773\n",
            "Epoch 43/50\n",
            "12/12 [==============================] - 1s 100ms/step - loss: 0.0645 - accuracy: 0.9799 - val_loss: 0.0803 - val_accuracy: 0.9762\n",
            "Epoch 44/50\n",
            "12/12 [==============================] - 1s 100ms/step - loss: 0.0650 - accuracy: 0.9800 - val_loss: 0.0790 - val_accuracy: 0.9768\n",
            "Epoch 45/50\n",
            "12/12 [==============================] - 1s 100ms/step - loss: 0.0602 - accuracy: 0.9817 - val_loss: 0.0796 - val_accuracy: 0.9771\n",
            "Epoch 46/50\n",
            "12/12 [==============================] - 1s 98ms/step - loss: 0.0592 - accuracy: 0.9818 - val_loss: 0.0795 - val_accuracy: 0.9770\n",
            "Epoch 47/50\n",
            "12/12 [==============================] - 1s 102ms/step - loss: 0.0596 - accuracy: 0.9822 - val_loss: 0.0787 - val_accuracy: 0.9778\n",
            "Epoch 48/50\n",
            "12/12 [==============================] - 1s 100ms/step - loss: 0.0587 - accuracy: 0.9824 - val_loss: 0.0780 - val_accuracy: 0.9776\n",
            "Epoch 49/50\n",
            "12/12 [==============================] - 1s 100ms/step - loss: 0.0563 - accuracy: 0.9829 - val_loss: 0.0786 - val_accuracy: 0.9772\n",
            "Epoch 50/50\n",
            "12/12 [==============================] - 1s 99ms/step - loss: 0.0559 - accuracy: 0.9829 - val_loss: 0.0800 - val_accuracy: 0.9777\n",
            "\n",
            " Evaluar el nuevo modelo con el conjunto de validación:\n",
            "3/3 [==============================] - 0s 33ms/step - loss: 0.0732 - accuracy: 0.9793\n"
          ]
        },
        {
          "output_type": "execute_result",
          "data": {
            "text/plain": [
              "[0.07322707772254944, 0.9793000221252441]"
            ]
          },
          "metadata": {},
          "execution_count": 37
        },
        {
          "output_type": "display_data",
          "data": {
            "text/plain": [
              "<Figure size 432x288 with 1 Axes>"
            ],
            "image/png": "[encoded data removed]"
          },
          "metadata": {
            "needs_background": "light"
          }
        }
      ]
    },
    {
      "cell_type": "markdown",
      "source": [
        "He probado dos modelos distintos para optimizar:\n",
        "- En el primero, aumento el número de nodos en ambas capas\n",
        "- En el segundo, mantengo el nuevo número de nodos en ambas capas y aumento el Dropout a 0.5\n",
        "\n",
        "Los resultados muestran que consigo casi una precisión del 98% usando los datos de validación, siendo estos unos resultados mejores que el modelo sin optimizar."
      ],
      "metadata": {
        "id": "b40Kh1CXJCzf"
      }
    }
  ]
}